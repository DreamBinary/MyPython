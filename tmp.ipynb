{
 "cells": [
  {
   "cell_type": "code",
   "execution_count": 2,
   "id": "initial_id",
   "metadata": {
    "collapsed": true,
    "ExecuteTime": {
     "end_time": "2023-09-08T02:55:07.341807600Z",
     "start_time": "2023-09-08T02:55:07.307385500Z"
    }
   },
   "outputs": [],
   "source": [
    "from OpenGL.GL import *\n",
    "from OpenGL.GLU import *\n",
    "from OpenGL.GLUT import *"
   ]
  },
  {
   "cell_type": "code",
   "execution_count": 3,
   "outputs": [],
   "source": [
    "# 绘制图像函数\n",
    "def display():\n",
    "    # 清除屏幕及深度缓存\n",
    "    glClear(GL_COLOR_BUFFER_BIT | GL_DEPTH_BUFFER_BIT)\n",
    "    # 设置红色\n",
    "    glColor3f(1.0, 0.0, 0.0)\n",
    "    # 开始绘制四边形\n",
    "    glBegin(GL_QUADS)\n",
    "    # 绘制四个顶点\n",
    "    glVertex3f(-0.5, -0.5, 0.0)\n",
    "    glVertex3f(0.5, -0.5, 0.0)\n",
    "    glVertex3f(0.5, 0.5, 0.0)\n",
    "    glVertex3f(-0.5, 0.5, 0.0)\n",
    "    # 结束绘制四边形\n",
    "    glEnd()\n",
    "    # 清空缓冲区并将指令送往硬件执行\n",
    "    glFlush()"
   ],
   "metadata": {
    "collapsed": false,
    "ExecuteTime": {
     "end_time": "2023-09-08T02:55:15.006851900Z",
     "start_time": "2023-09-08T02:55:14.981517200Z"
    }
   },
   "id": "1fdbb608c73cd2e9"
  },
  {
   "cell_type": "code",
   "execution_count": null,
   "outputs": [
    {
     "name": "stderr",
     "output_type": "stream",
     "text": [
      "Exception ignored on calling ctypes callback function: <function GLUTCallback.__call__.<locals>.safeCall at 0x000002C66029E440>\n",
      "Traceback (most recent call last):\n",
      "  File \"D:\\Mysoftware_setup\\anaconda3\\envs\\daily\\lib\\site-packages\\OpenGL\\GLUT\\special.py\", line 128, in safeCall\n",
      "    if not CurrentContextIsValid():\n",
      "KeyboardInterrupt: \n"
     ]
    }
   ],
   "source": [
    "# 使用glut库初始化OpenGL\n",
    "glutInit()\n",
    "# 显示模式 GLUT_SINGLE无缓冲直接显示|GLUT_RGBA采用RGB(A非alpha)\n",
    "glutInitDisplayMode(GLUT_SINGLE | GLUT_RGBA)\n",
    "# 设置窗口位置大小\n",
    "glutInitWindowSize(400, 400)\n",
    "# 创建窗口\n",
    "glutCreateWindow(\"eastmount\")\n",
    "# 调用display()函数绘制图像\n",
    "# glutOverlayDisplayFunc(display)display\n",
    "glutDisplayFunc(display)\n",
    "# 进入glut主循环\n",
    "glutMainLoop()"
   ],
   "metadata": {
    "collapsed": false,
    "is_executing": true,
    "ExecuteTime": {
     "start_time": "2023-09-08T02:56:19.939205Z"
    }
   },
   "id": "179d369a1073e918"
  },
  {
   "cell_type": "code",
   "execution_count": 5,
   "outputs": [
    {
     "name": "stdout",
     "output_type": "stream",
     "text": [
      "[1]\n"
     ]
    }
   ],
   "source": [
    "a = [1]\n",
    "print(a[0:1])"
   ],
   "metadata": {
    "collapsed": false,
    "ExecuteTime": {
     "end_time": "2023-09-11T10:54:13.147871100Z",
     "start_time": "2023-09-11T10:54:13.134101600Z"
    }
   },
   "id": "ca23506881d9073b"
  },
  {
   "cell_type": "code",
   "execution_count": null,
   "outputs": [],
   "source": [],
   "metadata": {
    "collapsed": false,
    "ExecuteTime": {
     "end_time": "2023-09-22T08:43:15.356779300Z",
     "start_time": "2023-09-22T08:43:15.346002100Z"
    }
   },
   "id": "db171484e9d7bc7f"
  },
  {
   "cell_type": "code",
   "execution_count": 1,
   "outputs": [
    {
     "data": {
      "text/plain": "4"
     },
     "execution_count": 1,
     "metadata": {},
     "output_type": "execute_result"
    }
   ],
   "source": [
    "eval(\"2 ** 2\")"
   ],
   "metadata": {
    "collapsed": false,
    "ExecuteTime": {
     "end_time": "2023-09-22T08:43:27.303572Z",
     "start_time": "2023-09-22T08:43:27.261161Z"
    }
   },
   "id": "a9a52f814c7dc7b"
  },
  {
   "cell_type": "code",
   "execution_count": 2,
   "outputs": [
    {
     "ename": "NameError",
     "evalue": "name 'log' is not defined",
     "output_type": "error",
     "traceback": [
      "\u001B[1;31m---------------------------------------------------------------------------\u001B[0m",
      "\u001B[1;31mNameError\u001B[0m                                 Traceback (most recent call last)",
      "Cell \u001B[1;32mIn[2], line 1\u001B[0m\n\u001B[1;32m----> 1\u001B[0m \u001B[38;5;28;43meval\u001B[39;49m\u001B[43m(\u001B[49m\u001B[38;5;124;43m\"\u001B[39;49m\u001B[38;5;124;43mlog(2)\u001B[39;49m\u001B[38;5;124;43m\"\u001B[39;49m\u001B[43m)\u001B[49m\n",
      "File \u001B[1;32m<string>:1\u001B[0m\n",
      "\u001B[1;31mNameError\u001B[0m: name 'log' is not defined"
     ]
    }
   ],
   "source": [
    "eval(\"log(2)\")"
   ],
   "metadata": {
    "collapsed": false,
    "ExecuteTime": {
     "end_time": "2023-09-22T08:43:50.814233700Z",
     "start_time": "2023-09-22T08:43:49.853864400Z"
    }
   },
   "id": "820bd30b180de7a0"
  },
  {
   "cell_type": "code",
   "execution_count": 3,
   "outputs": [
    {
     "ename": "NameError",
     "evalue": "name 'math' is not defined",
     "output_type": "error",
     "traceback": [
      "\u001B[1;31m---------------------------------------------------------------------------\u001B[0m",
      "\u001B[1;31mNameError\u001B[0m                                 Traceback (most recent call last)",
      "Cell \u001B[1;32mIn[3], line 1\u001B[0m\n\u001B[1;32m----> 1\u001B[0m \u001B[38;5;28;43meval\u001B[39;49m\u001B[43m(\u001B[49m\u001B[38;5;124;43m\"\u001B[39;49m\u001B[38;5;124;43mmath.log(2)\u001B[39;49m\u001B[38;5;124;43m\"\u001B[39;49m\u001B[43m)\u001B[49m\n",
      "File \u001B[1;32m<string>:1\u001B[0m\n",
      "\u001B[1;31mNameError\u001B[0m: name 'math' is not defined"
     ]
    }
   ],
   "source": [
    "eval(\"math.log(2)\")"
   ],
   "metadata": {
    "collapsed": false,
    "ExecuteTime": {
     "end_time": "2023-09-22T08:43:53.768807100Z",
     "start_time": "2023-09-22T08:43:53.706805200Z"
    }
   },
   "id": "854e4293d90fe519"
  },
  {
   "cell_type": "code",
   "execution_count": 4,
   "outputs": [
    {
     "data": {
      "text/plain": "0.6931471805599453"
     },
     "execution_count": 4,
     "metadata": {},
     "output_type": "execute_result"
    }
   ],
   "source": [
    "import math\n",
    "eval(\"math.log(2)\")"
   ],
   "metadata": {
    "collapsed": false,
    "ExecuteTime": {
     "end_time": "2023-09-22T08:44:02.657989300Z",
     "start_time": "2023-09-22T08:44:02.627590200Z"
    }
   },
   "id": "af6c36ecc7a37cc8"
  },
  {
   "cell_type": "code",
   "execution_count": 5,
   "outputs": [
    {
     "ename": "NameError",
     "evalue": "name 'sin' is not defined",
     "output_type": "error",
     "traceback": [
      "\u001B[1;31m---------------------------------------------------------------------------\u001B[0m",
      "\u001B[1;31mNameError\u001B[0m                                 Traceback (most recent call last)",
      "Cell \u001B[1;32mIn[5], line 1\u001B[0m\n\u001B[1;32m----> 1\u001B[0m \u001B[38;5;28;43meval\u001B[39;49m\u001B[43m(\u001B[49m\u001B[38;5;124;43m\"\u001B[39;49m\u001B[38;5;124;43msin(2)\u001B[39;49m\u001B[38;5;124;43m\"\u001B[39;49m\u001B[43m)\u001B[49m\n",
      "File \u001B[1;32m<string>:1\u001B[0m\n",
      "\u001B[1;31mNameError\u001B[0m: name 'sin' is not defined"
     ]
    }
   ],
   "source": [
    "eval(\"sin(2)\")"
   ],
   "metadata": {
    "collapsed": false,
    "ExecuteTime": {
     "end_time": "2023-09-22T08:44:50.730806500Z",
     "start_time": "2023-09-22T08:44:50.669137100Z"
    }
   },
   "id": "45f57f3498a08e8e"
  },
  {
   "cell_type": "code",
   "execution_count": null,
   "outputs": [],
   "source": [],
   "metadata": {
    "collapsed": false
   },
   "id": "180ac0e1825e3111"
  }
 ],
 "metadata": {
  "kernelspec": {
   "display_name": "Python 3",
   "language": "python",
   "name": "python3"
  },
  "language_info": {
   "codemirror_mode": {
    "name": "ipython",
    "version": 2
   },
   "file_extension": ".py",
   "mimetype": "text/x-python",
   "name": "python",
   "nbconvert_exporter": "python",
   "pygments_lexer": "ipython2",
   "version": "2.7.6"
  }
 },
 "nbformat": 4,
 "nbformat_minor": 5
}
